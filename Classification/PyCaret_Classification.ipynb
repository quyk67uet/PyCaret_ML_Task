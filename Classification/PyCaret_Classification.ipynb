{
  "nbformat": 4,
  "nbformat_minor": 0,
  "metadata": {
    "colab": {
      "name": "PyCaret Classification.ipynb",
      "provenance": []
    },
    "kernelspec": {
      "name": "python3",
      "display_name": "Python 3"
    },
    "language_info": {
      "name": "python"
    },
    "widgets": {
      "application/vnd.jupyter.widget-state+json": {
        "6c9df5cafdfe42cd8616fa8dc82cb126": {
          "model_module": "@jupyter-widgets/controls",
          "model_name": "VBoxModel",
          "model_module_version": "1.5.0",
          "state": {
            "_dom_classes": [
              "widget-interact"
            ],
            "_model_module": "@jupyter-widgets/controls",
            "_model_module_version": "1.5.0",
            "_model_name": "VBoxModel",
            "_view_count": null,
            "_view_module": "@jupyter-widgets/controls",
            "_view_module_version": "1.5.0",
            "_view_name": "VBoxView",
            "box_style": "",
            "children": [
              "IPY_MODEL_145ec738d7cf4442b0b3604c1d27aa1a",
              "IPY_MODEL_d57c16630b084ac39e8b64ba788e4a9e"
            ],
            "layout": "IPY_MODEL_4e82591ed643485b94b384d19b301ad2"
          }
        },
        "145ec738d7cf4442b0b3604c1d27aa1a": {
          "model_module": "@jupyter-widgets/controls",
          "model_name": "ToggleButtonsModel",
          "model_module_version": "1.5.0",
          "state": {
            "_dom_classes": [],
            "_model_module": "@jupyter-widgets/controls",
            "_model_module_version": "1.5.0",
            "_model_name": "ToggleButtonsModel",
            "_options_labels": [
              "Hyperparameters",
              "AUC",
              "Confusion Matrix",
              "Threshold",
              "Precision Recall",
              "Prediction Error",
              "Class Report",
              "Feature Selection",
              "Learning Curve",
              "Manifold Learning",
              "Calibration Curve",
              "Validation Curve",
              "Dimensions",
              "Feature Importance",
              "Feature Importance (All)",
              "Decision Boundary",
              "Lift Chart",
              "Gain Chart",
              "Decision Tree",
              "KS Statistic Plot"
            ],
            "_view_count": null,
            "_view_module": "@jupyter-widgets/controls",
            "_view_module_version": "1.5.0",
            "_view_name": "ToggleButtonsView",
            "button_style": "",
            "description": "Plot Type:",
            "description_tooltip": null,
            "disabled": false,
            "icons": [
              ""
            ],
            "index": 4,
            "layout": "IPY_MODEL_40db449e301544fca28d4720ce974830",
            "style": "IPY_MODEL_ad01be5b9d8346ab8244ff9c809d1ea2",
            "tooltips": []
          }
        },
        "d57c16630b084ac39e8b64ba788e4a9e": {
          "model_module": "@jupyter-widgets/output",
          "model_name": "OutputModel",
          "model_module_version": "1.0.0",
          "state": {
            "_dom_classes": [],
            "_model_module": "@jupyter-widgets/output",
            "_model_module_version": "1.0.0",
            "_model_name": "OutputModel",
            "_view_count": null,
            "_view_module": "@jupyter-widgets/output",
            "_view_module_version": "1.0.0",
            "_view_name": "OutputView",
            "layout": "IPY_MODEL_30448bbefd2c422a9383610cd581d2bb",
            "msg_id": "",
            "outputs": [
              {
                "output_type": "display_data",
                "data": {
                  "text/plain": "<Figure size 576x396 with 1 Axes>",
                  "image/png": "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\n"
                },
                "metadata": {}
              },
              {
                "output_type": "stream",
                "name": "stderr",
                "text": [
                  "INFO:logs:Visual Rendered Successfully\n"
                ]
              },
              {
                "output_type": "stream",
                "name": "stderr",
                "text": [
                  "INFO:logs:plot_model() succesfully completed......................................\n"
                ]
              }
            ]
          }
        },
        "4e82591ed643485b94b384d19b301ad2": {
          "model_module": "@jupyter-widgets/base",
          "model_name": "LayoutModel",
          "model_module_version": "1.2.0",
          "state": {
            "_model_module": "@jupyter-widgets/base",
            "_model_module_version": "1.2.0",
            "_model_name": "LayoutModel",
            "_view_count": null,
            "_view_module": "@jupyter-widgets/base",
            "_view_module_version": "1.2.0",
            "_view_name": "LayoutView",
            "align_content": null,
            "align_items": null,
            "align_self": null,
            "border": null,
            "bottom": null,
            "display": null,
            "flex": null,
            "flex_flow": null,
            "grid_area": null,
            "grid_auto_columns": null,
            "grid_auto_flow": null,
            "grid_auto_rows": null,
            "grid_column": null,
            "grid_gap": null,
            "grid_row": null,
            "grid_template_areas": null,
            "grid_template_columns": null,
            "grid_template_rows": null,
            "height": null,
            "justify_content": null,
            "justify_items": null,
            "left": null,
            "margin": null,
            "max_height": null,
            "max_width": null,
            "min_height": null,
            "min_width": null,
            "object_fit": null,
            "object_position": null,
            "order": null,
            "overflow": null,
            "overflow_x": null,
            "overflow_y": null,
            "padding": null,
            "right": null,
            "top": null,
            "visibility": null,
            "width": null
          }
        },
        "40db449e301544fca28d4720ce974830": {
          "model_module": "@jupyter-widgets/base",
          "model_name": "LayoutModel",
          "model_module_version": "1.2.0",
          "state": {
            "_model_module": "@jupyter-widgets/base",
            "_model_module_version": "1.2.0",
            "_model_name": "LayoutModel",
            "_view_count": null,
            "_view_module": "@jupyter-widgets/base",
            "_view_module_version": "1.2.0",
            "_view_name": "LayoutView",
            "align_content": null,
            "align_items": null,
            "align_self": null,
            "border": null,
            "bottom": null,
            "display": null,
            "flex": null,
            "flex_flow": null,
            "grid_area": null,
            "grid_auto_columns": null,
            "grid_auto_flow": null,
            "grid_auto_rows": null,
            "grid_column": null,
            "grid_gap": null,
            "grid_row": null,
            "grid_template_areas": null,
            "grid_template_columns": null,
            "grid_template_rows": null,
            "height": null,
            "justify_content": null,
            "justify_items": null,
            "left": null,
            "margin": null,
            "max_height": null,
            "max_width": null,
            "min_height": null,
            "min_width": null,
            "object_fit": null,
            "object_position": null,
            "order": null,
            "overflow": null,
            "overflow_x": null,
            "overflow_y": null,
            "padding": null,
            "right": null,
            "top": null,
            "visibility": null,
            "width": null
          }
        },
        "ad01be5b9d8346ab8244ff9c809d1ea2": {
          "model_module": "@jupyter-widgets/controls",
          "model_name": "ToggleButtonsStyleModel",
          "model_module_version": "1.5.0",
          "state": {
            "_model_module": "@jupyter-widgets/controls",
            "_model_module_version": "1.5.0",
            "_model_name": "ToggleButtonsStyleModel",
            "_view_count": null,
            "_view_module": "@jupyter-widgets/base",
            "_view_module_version": "1.2.0",
            "_view_name": "StyleView",
            "button_width": "",
            "description_width": "",
            "font_weight": ""
          }
        },
        "30448bbefd2c422a9383610cd581d2bb": {
          "model_module": "@jupyter-widgets/base",
          "model_name": "LayoutModel",
          "model_module_version": "1.2.0",
          "state": {
            "_model_module": "@jupyter-widgets/base",
            "_model_module_version": "1.2.0",
            "_model_name": "LayoutModel",
            "_view_count": null,
            "_view_module": "@jupyter-widgets/base",
            "_view_module_version": "1.2.0",
            "_view_name": "LayoutView",
            "align_content": null,
            "align_items": null,
            "align_self": null,
            "border": null,
            "bottom": null,
            "display": null,
            "flex": null,
            "flex_flow": null,
            "grid_area": null,
            "grid_auto_columns": null,
            "grid_auto_flow": null,
            "grid_auto_rows": null,
            "grid_column": null,
            "grid_gap": null,
            "grid_row": null,
            "grid_template_areas": null,
            "grid_template_columns": null,
            "grid_template_rows": null,
            "height": null,
            "justify_content": null,
            "justify_items": null,
            "left": null,
            "margin": null,
            "max_height": null,
            "max_width": null,
            "min_height": null,
            "min_width": null,
            "object_fit": null,
            "object_position": null,
            "order": null,
            "overflow": null,
            "overflow_x": null,
            "overflow_y": null,
            "padding": null,
            "right": null,
            "top": null,
            "visibility": null,
            "width": null
          }
        },
        "fad4bd59973447dab53371825faf6ebe": {
          "model_module": "@jupyter-widgets/controls",
          "model_name": "IntProgressModel",
          "model_module_version": "1.5.0",
          "state": {
            "_dom_classes": [],
            "_model_module": "@jupyter-widgets/controls",
            "_model_module_version": "1.5.0",
            "_model_name": "IntProgressModel",
            "_view_count": null,
            "_view_module": "@jupyter-widgets/controls",
            "_view_module_version": "1.5.0",
            "_view_name": "ProgressView",
            "bar_style": "",
            "description": "Processing: ",
            "description_tooltip": null,
            "layout": "IPY_MODEL_c431097b89fe41349db2f4cac6148e9d",
            "max": 5,
            "min": 0,
            "orientation": "horizontal",
            "style": "IPY_MODEL_4a9e76d26af8483d90c3621c94efef4f",
            "value": 3
          }
        },
        "c431097b89fe41349db2f4cac6148e9d": {
          "model_module": "@jupyter-widgets/base",
          "model_name": "LayoutModel",
          "model_module_version": "1.2.0",
          "state": {
            "_model_module": "@jupyter-widgets/base",
            "_model_module_version": "1.2.0",
            "_model_name": "LayoutModel",
            "_view_count": null,
            "_view_module": "@jupyter-widgets/base",
            "_view_module_version": "1.2.0",
            "_view_name": "LayoutView",
            "align_content": null,
            "align_items": null,
            "align_self": null,
            "border": null,
            "bottom": null,
            "display": null,
            "flex": null,
            "flex_flow": null,
            "grid_area": null,
            "grid_auto_columns": null,
            "grid_auto_flow": null,
            "grid_auto_rows": null,
            "grid_column": null,
            "grid_gap": null,
            "grid_row": null,
            "grid_template_areas": null,
            "grid_template_columns": null,
            "grid_template_rows": null,
            "height": null,
            "justify_content": null,
            "justify_items": null,
            "left": null,
            "margin": null,
            "max_height": null,
            "max_width": null,
            "min_height": null,
            "min_width": null,
            "object_fit": null,
            "object_position": null,
            "order": null,
            "overflow": null,
            "overflow_x": null,
            "overflow_y": null,
            "padding": null,
            "right": null,
            "top": null,
            "visibility": null,
            "width": null
          }
        },
        "4a9e76d26af8483d90c3621c94efef4f": {
          "model_module": "@jupyter-widgets/controls",
          "model_name": "ProgressStyleModel",
          "model_module_version": "1.5.0",
          "state": {
            "_model_module": "@jupyter-widgets/controls",
            "_model_module_version": "1.5.0",
            "_model_name": "ProgressStyleModel",
            "_view_count": null,
            "_view_module": "@jupyter-widgets/base",
            "_view_module_version": "1.2.0",
            "_view_name": "StyleView",
            "bar_color": null,
            "description_width": ""
          }
        },
        "f26afbc3d24a48f699d34fac3b4ee656": {
          "model_module": "@jupyter-widgets/controls",
          "model_name": "IntProgressModel",
          "model_module_version": "1.5.0",
          "state": {
            "_dom_classes": [],
            "_model_module": "@jupyter-widgets/controls",
            "_model_module_version": "1.5.0",
            "_model_name": "IntProgressModel",
            "_view_count": null,
            "_view_module": "@jupyter-widgets/controls",
            "_view_module_version": "1.5.0",
            "_view_name": "ProgressView",
            "bar_style": "",
            "description": "Processing: ",
            "description_tooltip": null,
            "layout": "IPY_MODEL_2ad1d32d29e84043b8879f77772ac4a4",
            "max": 5,
            "min": 0,
            "orientation": "horizontal",
            "style": "IPY_MODEL_3ef5138918ab462ea114d0c37dfea6f8",
            "value": 5
          }
        },
        "2ad1d32d29e84043b8879f77772ac4a4": {
          "model_module": "@jupyter-widgets/base",
          "model_name": "LayoutModel",
          "model_module_version": "1.2.0",
          "state": {
            "_model_module": "@jupyter-widgets/base",
            "_model_module_version": "1.2.0",
            "_model_name": "LayoutModel",
            "_view_count": null,
            "_view_module": "@jupyter-widgets/base",
            "_view_module_version": "1.2.0",
            "_view_name": "LayoutView",
            "align_content": null,
            "align_items": null,
            "align_self": null,
            "border": null,
            "bottom": null,
            "display": null,
            "flex": null,
            "flex_flow": null,
            "grid_area": null,
            "grid_auto_columns": null,
            "grid_auto_flow": null,
            "grid_auto_rows": null,
            "grid_column": null,
            "grid_gap": null,
            "grid_row": null,
            "grid_template_areas": null,
            "grid_template_columns": null,
            "grid_template_rows": null,
            "height": null,
            "justify_content": null,
            "justify_items": null,
            "left": null,
            "margin": null,
            "max_height": null,
            "max_width": null,
            "min_height": null,
            "min_width": null,
            "object_fit": null,
            "object_position": null,
            "order": null,
            "overflow": null,
            "overflow_x": null,
            "overflow_y": null,
            "padding": null,
            "right": null,
            "top": null,
            "visibility": null,
            "width": null
          }
        },
        "3ef5138918ab462ea114d0c37dfea6f8": {
          "model_module": "@jupyter-widgets/controls",
          "model_name": "ProgressStyleModel",
          "model_module_version": "1.5.0",
          "state": {
            "_model_module": "@jupyter-widgets/controls",
            "_model_module_version": "1.5.0",
            "_model_name": "ProgressStyleModel",
            "_view_count": null,
            "_view_module": "@jupyter-widgets/base",
            "_view_module_version": "1.2.0",
            "_view_name": "StyleView",
            "bar_color": null,
            "description_width": ""
          }
        },
        "4af77297168b44eda71ed7b8791f8e8c": {
          "model_module": "@jupyter-widgets/controls",
          "model_name": "IntProgressModel",
          "model_module_version": "1.5.0",
          "state": {
            "_dom_classes": [],
            "_model_module": "@jupyter-widgets/controls",
            "_model_module_version": "1.5.0",
            "_model_name": "IntProgressModel",
            "_view_count": null,
            "_view_module": "@jupyter-widgets/controls",
            "_view_module_version": "1.5.0",
            "_view_name": "ProgressView",
            "bar_style": "",
            "description": "Processing: ",
            "description_tooltip": null,
            "layout": "IPY_MODEL_3fee5deccb9a442da03062dc59c1c4f8",
            "max": 5,
            "min": 0,
            "orientation": "horizontal",
            "style": "IPY_MODEL_2f702f99aadd4928b194ac3d625b5e64",
            "value": 5
          }
        },
        "3fee5deccb9a442da03062dc59c1c4f8": {
          "model_module": "@jupyter-widgets/base",
          "model_name": "LayoutModel",
          "model_module_version": "1.2.0",
          "state": {
            "_model_module": "@jupyter-widgets/base",
            "_model_module_version": "1.2.0",
            "_model_name": "LayoutModel",
            "_view_count": null,
            "_view_module": "@jupyter-widgets/base",
            "_view_module_version": "1.2.0",
            "_view_name": "LayoutView",
            "align_content": null,
            "align_items": null,
            "align_self": null,
            "border": null,
            "bottom": null,
            "display": null,
            "flex": null,
            "flex_flow": null,
            "grid_area": null,
            "grid_auto_columns": null,
            "grid_auto_flow": null,
            "grid_auto_rows": null,
            "grid_column": null,
            "grid_gap": null,
            "grid_row": null,
            "grid_template_areas": null,
            "grid_template_columns": null,
            "grid_template_rows": null,
            "height": null,
            "justify_content": null,
            "justify_items": null,
            "left": null,
            "margin": null,
            "max_height": null,
            "max_width": null,
            "min_height": null,
            "min_width": null,
            "object_fit": null,
            "object_position": null,
            "order": null,
            "overflow": null,
            "overflow_x": null,
            "overflow_y": null,
            "padding": null,
            "right": null,
            "top": null,
            "visibility": null,
            "width": null
          }
        },
        "2f702f99aadd4928b194ac3d625b5e64": {
          "model_module": "@jupyter-widgets/controls",
          "model_name": "ProgressStyleModel",
          "model_module_version": "1.5.0",
          "state": {
            "_model_module": "@jupyter-widgets/controls",
            "_model_module_version": "1.5.0",
            "_model_name": "ProgressStyleModel",
            "_view_count": null,
            "_view_module": "@jupyter-widgets/base",
            "_view_module_version": "1.2.0",
            "_view_name": "StyleView",
            "bar_color": null,
            "description_width": ""
          }
        },
        "10ea6eee6fe1492f8ce45948e98ba4b1": {
          "model_module": "@jupyter-widgets/controls",
          "model_name": "IntProgressModel",
          "model_module_version": "1.5.0",
          "state": {
            "_dom_classes": [],
            "_model_module": "@jupyter-widgets/controls",
            "_model_module_version": "1.5.0",
            "_model_name": "IntProgressModel",
            "_view_count": null,
            "_view_module": "@jupyter-widgets/controls",
            "_view_module_version": "1.5.0",
            "_view_name": "ProgressView",
            "bar_style": "",
            "description": "Processing: ",
            "description_tooltip": null,
            "layout": "IPY_MODEL_7d2128f2cd8b4ada8a5c8c08f86156d1",
            "max": 5,
            "min": 0,
            "orientation": "horizontal",
            "style": "IPY_MODEL_afe48581dc3c4168b868a3c33b1008de",
            "value": 5
          }
        },
        "7d2128f2cd8b4ada8a5c8c08f86156d1": {
          "model_module": "@jupyter-widgets/base",
          "model_name": "LayoutModel",
          "model_module_version": "1.2.0",
          "state": {
            "_model_module": "@jupyter-widgets/base",
            "_model_module_version": "1.2.0",
            "_model_name": "LayoutModel",
            "_view_count": null,
            "_view_module": "@jupyter-widgets/base",
            "_view_module_version": "1.2.0",
            "_view_name": "LayoutView",
            "align_content": null,
            "align_items": null,
            "align_self": null,
            "border": null,
            "bottom": null,
            "display": null,
            "flex": null,
            "flex_flow": null,
            "grid_area": null,
            "grid_auto_columns": null,
            "grid_auto_flow": null,
            "grid_auto_rows": null,
            "grid_column": null,
            "grid_gap": null,
            "grid_row": null,
            "grid_template_areas": null,
            "grid_template_columns": null,
            "grid_template_rows": null,
            "height": null,
            "justify_content": null,
            "justify_items": null,
            "left": null,
            "margin": null,
            "max_height": null,
            "max_width": null,
            "min_height": null,
            "min_width": null,
            "object_fit": null,
            "object_position": null,
            "order": null,
            "overflow": null,
            "overflow_x": null,
            "overflow_y": null,
            "padding": null,
            "right": null,
            "top": null,
            "visibility": null,
            "width": null
          }
        },
        "afe48581dc3c4168b868a3c33b1008de": {
          "model_module": "@jupyter-widgets/controls",
          "model_name": "ProgressStyleModel",
          "model_module_version": "1.5.0",
          "state": {
            "_model_module": "@jupyter-widgets/controls",
            "_model_module_version": "1.5.0",
            "_model_name": "ProgressStyleModel",
            "_view_count": null,
            "_view_module": "@jupyter-widgets/base",
            "_view_module_version": "1.2.0",
            "_view_name": "StyleView",
            "bar_color": null,
            "description_width": ""
          }
        }
      }
    }
  },
  "cells": [
    {
      "cell_type": "code",
      "source": [
        "!pip install markupsafe==2.0.1 Jinja2"
      ],
      "metadata": {
        "id": "YvmfxkjEUz6K"
      },
      "execution_count": null,
      "outputs": []
    },
    {
      "cell_type": "code",
      "execution_count": null,
      "metadata": {
        "id": "VddAY_5kTb17"
      },
      "outputs": [],
      "source": [
        "!pip install pycaret"
      ]
    },
    {
      "cell_type": "code",
      "source": [
        "import pandas as pd\n",
        "df = pd.read_csv('train.csv')\n",
        "df.head(1)"
      ],
      "metadata": {
        "id": "D-PZoASzTo4u",
        "colab": {
          "base_uri": "https://localhost:8080/",
          "height": 197
        },
        "outputId": "c9c5a21c-6ca1-4c0b-c25d-de3efc787a67"
      },
      "execution_count": null,
      "outputs": [
        {
          "output_type": "execute_result",
          "data": {
            "text/plain": [
              "   PassengerId  Survived  Pclass                     Name   Sex   Age  SibSp  \\\n",
              "0            1         0       3  Braund, Mr. Owen Harris  male  22.0      1   \n",
              "\n",
              "   Parch     Ticket  Fare Cabin Embarked  \n",
              "0      0  A/5 21171  7.25   NaN        S  "
            ],
            "text/html": [
              "\n",
              "  <div id=\"df-0536ef0c-1fe4-4cea-8249-b20605438eba\">\n",
              "    <div class=\"colab-df-container\">\n",
              "      <div>\n",
              "<style scoped>\n",
              "    .dataframe tbody tr th:only-of-type {\n",
              "        vertical-align: middle;\n",
              "    }\n",
              "\n",
              "    .dataframe tbody tr th {\n",
              "        vertical-align: top;\n",
              "    }\n",
              "\n",
              "    .dataframe thead th {\n",
              "        text-align: right;\n",
              "    }\n",
              "</style>\n",
              "<table border=\"1\" class=\"dataframe\">\n",
              "  <thead>\n",
              "    <tr style=\"text-align: right;\">\n",
              "      <th></th>\n",
              "      <th>PassengerId</th>\n",
              "      <th>Survived</th>\n",
              "      <th>Pclass</th>\n",
              "      <th>Name</th>\n",
              "      <th>Sex</th>\n",
              "      <th>Age</th>\n",
              "      <th>SibSp</th>\n",
              "      <th>Parch</th>\n",
              "      <th>Ticket</th>\n",
              "      <th>Fare</th>\n",
              "      <th>Cabin</th>\n",
              "      <th>Embarked</th>\n",
              "    </tr>\n",
              "  </thead>\n",
              "  <tbody>\n",
              "    <tr>\n",
              "      <th>0</th>\n",
              "      <td>1</td>\n",
              "      <td>0</td>\n",
              "      <td>3</td>\n",
              "      <td>Braund, Mr. Owen Harris</td>\n",
              "      <td>male</td>\n",
              "      <td>22.0</td>\n",
              "      <td>1</td>\n",
              "      <td>0</td>\n",
              "      <td>A/5 21171</td>\n",
              "      <td>7.25</td>\n",
              "      <td>NaN</td>\n",
              "      <td>S</td>\n",
              "    </tr>\n",
              "  </tbody>\n",
              "</table>\n",
              "</div>\n",
              "      <button class=\"colab-df-convert\" onclick=\"convertToInteractive('df-0536ef0c-1fe4-4cea-8249-b20605438eba')\"\n",
              "              title=\"Convert this dataframe to an interactive table.\"\n",
              "              style=\"display:none;\">\n",
              "        \n",
              "  <svg xmlns=\"http://www.w3.org/2000/svg\" height=\"24px\"viewBox=\"0 0 24 24\"\n",
              "       width=\"24px\">\n",
              "    <path d=\"M0 0h24v24H0V0z\" fill=\"none\"/>\n",
              "    <path d=\"M18.56 5.44l.94 2.06.94-2.06 2.06-.94-2.06-.94-.94-2.06-.94 2.06-2.06.94zm-11 1L8.5 8.5l.94-2.06 2.06-.94-2.06-.94L8.5 2.5l-.94 2.06-2.06.94zm10 10l.94 2.06.94-2.06 2.06-.94-2.06-.94-.94-2.06-.94 2.06-2.06.94z\"/><path d=\"M17.41 7.96l-1.37-1.37c-.4-.4-.92-.59-1.43-.59-.52 0-1.04.2-1.43.59L10.3 9.45l-7.72 7.72c-.78.78-.78 2.05 0 2.83L4 21.41c.39.39.9.59 1.41.59.51 0 1.02-.2 1.41-.59l7.78-7.78 2.81-2.81c.8-.78.8-2.07 0-2.86zM5.41 20L4 18.59l7.72-7.72 1.47 1.35L5.41 20z\"/>\n",
              "  </svg>\n",
              "      </button>\n",
              "      \n",
              "  <style>\n",
              "    .colab-df-container {\n",
              "      display:flex;\n",
              "      flex-wrap:wrap;\n",
              "      gap: 12px;\n",
              "    }\n",
              "\n",
              "    .colab-df-convert {\n",
              "      background-color: #E8F0FE;\n",
              "      border: none;\n",
              "      border-radius: 50%;\n",
              "      cursor: pointer;\n",
              "      display: none;\n",
              "      fill: #1967D2;\n",
              "      height: 32px;\n",
              "      padding: 0 0 0 0;\n",
              "      width: 32px;\n",
              "    }\n",
              "\n",
              "    .colab-df-convert:hover {\n",
              "      background-color: #E2EBFA;\n",
              "      box-shadow: 0px 1px 2px rgba(60, 64, 67, 0.3), 0px 1px 3px 1px rgba(60, 64, 67, 0.15);\n",
              "      fill: #174EA6;\n",
              "    }\n",
              "\n",
              "    [theme=dark] .colab-df-convert {\n",
              "      background-color: #3B4455;\n",
              "      fill: #D2E3FC;\n",
              "    }\n",
              "\n",
              "    [theme=dark] .colab-df-convert:hover {\n",
              "      background-color: #434B5C;\n",
              "      box-shadow: 0px 1px 3px 1px rgba(0, 0, 0, 0.15);\n",
              "      filter: drop-shadow(0px 1px 2px rgba(0, 0, 0, 0.3));\n",
              "      fill: #FFFFFF;\n",
              "    }\n",
              "  </style>\n",
              "\n",
              "      <script>\n",
              "        const buttonEl =\n",
              "          document.querySelector('#df-0536ef0c-1fe4-4cea-8249-b20605438eba button.colab-df-convert');\n",
              "        buttonEl.style.display =\n",
              "          google.colab.kernel.accessAllowed ? 'block' : 'none';\n",
              "\n",
              "        async function convertToInteractive(key) {\n",
              "          const element = document.querySelector('#df-0536ef0c-1fe4-4cea-8249-b20605438eba');\n",
              "          const dataTable =\n",
              "            await google.colab.kernel.invokeFunction('convertToInteractive',\n",
              "                                                     [key], {});\n",
              "          if (!dataTable) return;\n",
              "\n",
              "          const docLinkHtml = 'Like what you see? Visit the ' +\n",
              "            '<a target=\"_blank\" href=https://colab.research.google.com/notebooks/data_table.ipynb>data table notebook</a>'\n",
              "            + ' to learn more about interactive tables.';\n",
              "          element.innerHTML = '';\n",
              "          dataTable['output_type'] = 'display_data';\n",
              "          await google.colab.output.renderOutput(dataTable, element);\n",
              "          const docLink = document.createElement('div');\n",
              "          docLink.innerHTML = docLinkHtml;\n",
              "          element.appendChild(docLink);\n",
              "        }\n",
              "      </script>\n",
              "    </div>\n",
              "  </div>\n",
              "  "
            ]
          },
          "metadata": {},
          "execution_count": 11
        }
      ]
    },
    {
      "cell_type": "code",
      "source": [
        "from pycaret.classification import setup, compare_models, evaluate_model, predict_model, save_model, load_model"
      ],
      "metadata": {
        "id": "Rmh_XUaYI0Zs"
      },
      "execution_count": null,
      "outputs": []
    },
    {
      "cell_type": "code",
      "source": [
        "s = setup(df, target='Survived')"
      ],
      "metadata": {
        "id": "DtMxas5uI7mc"
      },
      "execution_count": null,
      "outputs": []
    },
    {
      "cell_type": "code",
      "source": [
        "best_model = compare_models()"
      ],
      "metadata": {
        "id": "2Igg1iArI-os"
      },
      "execution_count": null,
      "outputs": []
    },
    {
      "cell_type": "code",
      "source": [
        "evaluate_model(best_model)"
      ],
      "metadata": {
        "colab": {
          "base_uri": "https://localhost:8080/",
          "height": 752,
          "referenced_widgets": [
            "6c9df5cafdfe42cd8616fa8dc82cb126",
            "145ec738d7cf4442b0b3604c1d27aa1a",
            "d57c16630b084ac39e8b64ba788e4a9e",
            "4e82591ed643485b94b384d19b301ad2",
            "40db449e301544fca28d4720ce974830",
            "ad01be5b9d8346ab8244ff9c809d1ea2",
            "30448bbefd2c422a9383610cd581d2bb",
            "fad4bd59973447dab53371825faf6ebe",
            "c431097b89fe41349db2f4cac6148e9d",
            "4a9e76d26af8483d90c3621c94efef4f",
            "f26afbc3d24a48f699d34fac3b4ee656",
            "2ad1d32d29e84043b8879f77772ac4a4",
            "3ef5138918ab462ea114d0c37dfea6f8",
            "4af77297168b44eda71ed7b8791f8e8c",
            "3fee5deccb9a442da03062dc59c1c4f8",
            "2f702f99aadd4928b194ac3d625b5e64",
            "10ea6eee6fe1492f8ce45948e98ba4b1",
            "7d2128f2cd8b4ada8a5c8c08f86156d1",
            "afe48581dc3c4168b868a3c33b1008de"
          ]
        },
        "id": "5X5etaimJEBU",
        "outputId": "60336836-0264-4f16-beb4-6e83f6cca411"
      },
      "execution_count": null,
      "outputs": [
        {
          "output_type": "stream",
          "name": "stderr",
          "text": [
            "INFO:logs:Initializing evaluate_model()\n",
            "INFO:logs:evaluate_model(estimator=LogisticRegression(C=1.0, class_weight=None, dual=False, fit_intercept=True,\n",
            "                   intercept_scaling=1, l1_ratio=None, max_iter=1000,\n",
            "                   multi_class='auto', n_jobs=None, penalty='l2',\n",
            "                   random_state=4013, solver='lbfgs', tol=0.0001, verbose=0,\n",
            "                   warm_start=False), fold=None, fit_kwargs=None, plot_kwargs=None, feature_name=None, groups=None, use_train_data=False)\n"
          ]
        },
        {
          "output_type": "display_data",
          "data": {
            "text/plain": [
              "interactive(children=(ToggleButtons(description='Plot Type:', icons=('',), options=(('Hyperparameters', 'param…"
            ],
            "application/vnd.jupyter.widget-view+json": {
              "version_major": 2,
              "version_minor": 0,
              "model_id": "6c9df5cafdfe42cd8616fa8dc82cb126"
            }
          },
          "metadata": {}
        }
      ]
    },
    {
      "cell_type": "code",
      "source": [
        "test = pd.read_csv('test.csv')\n",
        "predict_model(best_model, data=test)"
      ],
      "metadata": {
        "id": "c_D_sWikJRp7"
      },
      "execution_count": null,
      "outputs": []
    },
    {
      "cell_type": "code",
      "source": [
        "best_model"
      ],
      "metadata": {
        "id": "ZHUr6db8JgnC"
      },
      "execution_count": null,
      "outputs": []
    },
    {
      "cell_type": "code",
      "source": [
        "save_model(best_model, 'logistic')"
      ],
      "metadata": {
        "id": "RkM5zNQYJaoS"
      },
      "execution_count": null,
      "outputs": []
    },
    {
      "cell_type": "code",
      "source": [
        "model = load_model('logistic')"
      ],
      "metadata": {
        "id": "sH-32PtGJj06",
        "outputId": "9a91290d-5615-46b7-9bb7-92c97a1368b2",
        "colab": {
          "base_uri": "https://localhost:8080/"
        }
      },
      "execution_count": null,
      "outputs": [
        {
          "output_type": "stream",
          "name": "stderr",
          "text": [
            "INFO:logs:Initializing load_model()\n",
            "INFO:logs:load_model(model_name=logistic, platform=None, authentication=None, verbose=True)\n"
          ]
        },
        {
          "output_type": "stream",
          "name": "stdout",
          "text": [
            "Transformation Pipeline and Model Successfully Loaded\n"
          ]
        }
      ]
    },
    {
      "cell_type": "code",
      "source": [
        "model"
      ],
      "metadata": {
        "id": "aCefNLQxJn10",
        "outputId": "00e692ff-9c66-43c7-8195-857ad364db5f",
        "colab": {
          "base_uri": "https://localhost:8080/"
        }
      },
      "execution_count": null,
      "outputs": [
        {
          "output_type": "execute_result",
          "data": {
            "text/plain": [
              "Pipeline(memory=None,\n",
              "         steps=[('dtypes',\n",
              "                 DataTypes_Auto_infer(categorical_features=[],\n",
              "                                      display_types=True, features_todrop=[],\n",
              "                                      id_columns=['PassengerId'],\n",
              "                                      ml_usecase='classification',\n",
              "                                      numerical_features=[], target='Survived',\n",
              "                                      time_features=[])),\n",
              "                ('imputer',\n",
              "                 Simple_Imputer(categorical_strategy='not_available',\n",
              "                                fill_value_categorical=None,\n",
              "                                fill_value_numerical=Non...\n",
              "                ('feature_select', 'passthrough'), ('fix_multi', 'passthrough'),\n",
              "                ('dfs', 'passthrough'), ('pca', 'passthrough'),\n",
              "                ['trained_model',\n",
              "                 LogisticRegression(C=1.0, class_weight=None, dual=False,\n",
              "                                    fit_intercept=True, intercept_scaling=1,\n",
              "                                    l1_ratio=None, max_iter=1000,\n",
              "                                    multi_class='auto', n_jobs=None,\n",
              "                                    penalty='l2', random_state=4013,\n",
              "                                    solver='lbfgs', tol=0.0001, verbose=0,\n",
              "                                    warm_start=False)]],\n",
              "         verbose=False)"
            ]
          },
          "metadata": {},
          "execution_count": 20
        }
      ]
    },
    {
      "cell_type": "code",
      "source": [
        ""
      ],
      "metadata": {
        "id": "2oDYeY0YJoqB"
      },
      "execution_count": null,
      "outputs": []
    }
  ]
}